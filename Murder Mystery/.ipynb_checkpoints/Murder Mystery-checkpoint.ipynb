{
 "cells": [
  {
   "cell_type": "code",
   "execution_count": 2,
   "metadata": {
    "collapsed": false
   },
   "outputs": [],
   "source": [
    "import numpy as np\n",
    "import matplotlib.pyplot as plt\n",
    "\n",
    "import seaborn as sns\n",
    "sns.set_style(\"whitegrid\")"
   ]
  },
  {
   "cell_type": "markdown",
   "metadata": {},
   "source": [
    "## Question\n",
    "\n",
    "** After visiting a product page on Amazon, a user chooses to buy the product. How would you model uncertainity ? **"
   ]
  },
  {
   "cell_type": "code",
   "execution_count": 5,
   "metadata": {
    "collapsed": true
   },
   "outputs": [],
   "source": [
    "# Since there is a pretty low chance that a person will choose to buy a product\n",
    "# Let us first create a random variable called buy.\n",
    "# This is the variable whose value we are uncertain about\n",
    "# This variable can take two values `true` and `false`\n",
    "# P(buy = true) = 0.2 and P(buy = false) = 0.8\n",
    "# This is a bernoulli distribution Bernoulli(buy|p), where p can take the value 0.2 or 0.8\n",
    "\n",
    "from scipy.stats import bernoulli\n",
    "\n",
    "p = 0.2\n",
    "sample_size=10\n",
    "\n",
    "rvs = bernoulli.rvs(p, size=sample_size)"
   ]
  },
  {
   "cell_type": "code",
   "execution_count": 7,
   "metadata": {
    "collapsed": false
   },
   "outputs": [
    {
     "name": "stdout",
     "output_type": "stream",
     "text": [
      "Proportion of samples that are true is 0.300000 when sample size 10 \n"
     ]
    }
   ],
   "source": [
    "# What proportion of samples are true ?\n",
    "print 'Proportion of samples that are true is %f when sample size %d ' %(rvs.sum() * 1. / len(rvs), sample_size) "
   ]
  },
  {
   "cell_type": "code",
   "execution_count": 8,
   "metadata": {
    "collapsed": true
   },
   "outputs": [],
   "source": [
    "sample_size=100\n",
    "\n",
    "rvs = bernoulli.rvs(p, size=sample_size)"
   ]
  },
  {
   "cell_type": "code",
   "execution_count": 9,
   "metadata": {
    "collapsed": false
   },
   "outputs": [
    {
     "name": "stdout",
     "output_type": "stream",
     "text": [
      "Proportion of samples that are true is 0.240000 when sample size 100 \n"
     ]
    }
   ],
   "source": [
    "# What proportion of samples are true ?\n",
    "print 'Proportion of samples that are true is %f when sample size %d ' %(rvs.sum() * 1. / len(rvs), sample_size) "
   ]
  },
  {
   "cell_type": "code",
   "execution_count": 11,
   "metadata": {
    "collapsed": false
   },
   "outputs": [],
   "source": [
    "sample_size=1000\n",
    "\n",
    "rvs = bernoulli.rvs(p, size=sample_size)"
   ]
  },
  {
   "cell_type": "code",
   "execution_count": 12,
   "metadata": {
    "collapsed": false
   },
   "outputs": [
    {
     "name": "stdout",
     "output_type": "stream",
     "text": [
      "Proportion of samples that are true is 0.195000 when sample size 1000 \n"
     ]
    }
   ],
   "source": [
    "# What proportion of samples are true ?\n",
    "print 'Proportion of samples that are true is %f when sample size %d ' %(rvs.sum() * 1. / len(rvs), sample_size) "
   ]
  },
  {
   "cell_type": "code",
   "execution_count": 13,
   "metadata": {
    "collapsed": true
   },
   "outputs": [],
   "source": [
    "sample_size=10000\n",
    "\n",
    "rvs = bernoulli.rvs(p, size=sample_size)"
   ]
  },
  {
   "cell_type": "code",
   "execution_count": 14,
   "metadata": {
    "collapsed": false
   },
   "outputs": [
    {
     "name": "stdout",
     "output_type": "stream",
     "text": [
      "Proportion of samples that are true is 0.196300 when sample size 10000 \n"
     ]
    }
   ],
   "source": [
    "# What proportion of samples are true ?\n",
    "print 'Proportion of samples that are true is %f when sample size %d ' %(rvs.sum() * 1. / len(rvs), sample_size) "
   ]
  },
  {
   "cell_type": "markdown",
   "metadata": {},
   "source": [
    "** As we increase samples, proportion gets closer and closer to p **"
   ]
  },
  {
   "cell_type": "code",
   "execution_count": null,
   "metadata": {
    "collapsed": true
   },
   "outputs": [],
   "source": []
  }
 ],
 "metadata": {
  "kernelspec": {
   "display_name": "Python 2",
   "language": "python",
   "name": "python2"
  },
  "language_info": {
   "codemirror_mode": {
    "name": "ipython",
    "version": 2
   },
   "file_extension": ".py",
   "mimetype": "text/x-python",
   "name": "python",
   "nbconvert_exporter": "python",
   "pygments_lexer": "ipython2",
   "version": "2.7.10"
  }
 },
 "nbformat": 4,
 "nbformat_minor": 0
}
